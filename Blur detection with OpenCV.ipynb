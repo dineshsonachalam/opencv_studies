{
 "cells": [
  {
   "cell_type": "markdown",
   "metadata": {},
   "source": [
    "### Blur detection with OpenCV:\n",
    "\n",
    "We will be computing the amount of Blur in an image using opencv,python and Laplacian operator."
   ]
  },
  {
   "cell_type": "code",
   "execution_count": 27,
   "metadata": {},
   "outputs": [
    {
     "name": "stdout",
     "output_type": "stream",
     "text": [
      "559.8543122443739\n"
     ]
    }
   ],
   "source": [
    "# import the necessary packages\n",
    "from imutils import paths\n",
    "import argparse\n",
    "import cv2\n",
    " \n",
    "image = cv2.imread(\"data_5/1.png\")\n",
    "\n",
    "\n",
    "# construct the argument parse and parse the arguments\n",
    "ap = argparse.ArgumentParser()\n",
    "\n",
    "\n",
    "\n",
    "# load the image, convert it to grayscale, and compute the\n",
    "# focus measure of the image using the Variance of Laplacian\n",
    "# method\n",
    "image = cv2.imread(imagePath)\n",
    "gray = cv2.cvtColor(image, cv2.COLOR_BGR2GRAY)\n",
    "fm = cv2.Laplacian(gray, cv2.CV_64F).var()\n",
    "text = \"Not Blurry\"\n",
    "# if the focus measure is less than the supplied threshold,\n",
    "# then the image should be considered \"blurry\"\n",
    "# if fm < args[\"threshold\"]:\n",
    "#     text = \"Blurry\"\n",
    "\n",
    "print(fm)\n",
    "# show the image\n",
    "cv2.putText(image, \"{}: {:.2f}\".format(text, fm), (10, 30),\n",
    "        cv2.FONT_HERSHEY_SIMPLEX, 0.8, (0, 0, 255), 3)\n",
    "cv2.imshow(\"Image\", image)\n",
    "key = cv2.waitKey(0)"
   ]
  }
 ],
 "metadata": {
  "kernelspec": {
   "display_name": "Python 3",
   "language": "python",
   "name": "python3"
  },
  "language_info": {
   "codemirror_mode": {
    "name": "ipython",
    "version": 3
   },
   "file_extension": ".py",
   "mimetype": "text/x-python",
   "name": "python",
   "nbconvert_exporter": "python",
   "pygments_lexer": "ipython3",
   "version": "3.6.5"
  }
 },
 "nbformat": 4,
 "nbformat_minor": 2
}
