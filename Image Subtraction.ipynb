{
 "cells": [
  {
   "cell_type": "code",
   "execution_count": 16,
   "metadata": {},
   "outputs": [],
   "source": [
    "import numpy as np\n",
    "import cv2\n",
    "\n",
    "if __name__ == '__main__':\n",
    "\n",
    "    image = cv2.imread('data_6/document_img.png',cv2.IMREAD_GRAYSCALE)\n",
    "    template = cv2.imread('data_6/template_img.png',cv2.IMREAD_GRAYSCALE)\n",
    "\n",
    "    kernel = cv2.getStructuringElement(cv2.MORPH_RECT, (3,3))\n",
    "    template = cv2.morphologyEx(template, cv2.MORPH_ERODE, kernel,iterations = 2)\n",
    "\n",
    "    image[template == 0] = 255\n",
    "    result_img = cv2.subtract(template,image)\n",
    "\n",
    "    cv2.imshow('image', result_img)\n",
    "    cv2.imshow('tmpl', template)\n",
    "    cv2.waitKey(0)\n",
    "    cv2.destroyAllWindows()\n",
    "    cv2.imwrite('data_6/output.png',image)"
   ]
  }
 ],
 "metadata": {
  "kernelspec": {
   "display_name": "Python 3",
   "language": "python",
   "name": "python3"
  },
  "language_info": {
   "codemirror_mode": {
    "name": "ipython",
    "version": 3
   },
   "file_extension": ".py",
   "mimetype": "text/x-python",
   "name": "python",
   "nbconvert_exporter": "python",
   "pygments_lexer": "ipython3",
   "version": "3.6.5"
  }
 },
 "nbformat": 4,
 "nbformat_minor": 2
}
