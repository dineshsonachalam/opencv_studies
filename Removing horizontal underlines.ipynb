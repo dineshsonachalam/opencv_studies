{
 "cells": [
  {
   "cell_type": "code",
   "execution_count": 14,
   "metadata": {},
   "outputs": [
    {
     "data": {
      "text/plain": [
       "True"
      ]
     },
     "execution_count": 14,
     "metadata": {},
     "output_type": "execute_result"
    }
   ],
   "source": [
    "import cv2\n",
    "import numpy as np\n",
    "import matplotlib.pyplot as plt\n",
    "\n",
    "im = cv2.imread('data_5/2.png')\n",
    "gray = 255 - cv2.cvtColor(im, cv2.COLOR_BGR2GRAY)\n",
    "# prepare a mask using Otsu threshold, then copy from original. this removes some noise\n",
    "__, bw = cv2.threshold(cv2.dilate(gray, None), 128, 255, cv2.THRESH_BINARY or cv2.THRESH_OTSU)\n",
    "gray = cv2.bitwise_and(gray, bw)\n",
    "# make copy of the low-noise underlined image\n",
    "grayu = gray.copy()\n",
    "imcpy = im.copy()\n",
    "# scan each row and remove lines\n",
    "for row in range(gray.shape[0]):\n",
    "    avg = np.average(gray[row, :] > 16)\n",
    "    if avg > 0.9:\n",
    "        cv2.line(im, (0, row), (gray.shape[1]-1, row), (0, 0, 255))\n",
    "        cv2.line(gray, (0, row), (gray.shape[1]-1, row), (0, 0, 0), 1)\n",
    "\n",
    "cont = gray.copy()\n",
    "graycpy = gray.copy()\n",
    "# after contour processing, the residual will contain small contours\n",
    "residual = gray.copy()\n",
    "# find contours\n",
    "_,contours, hierarchy = cv2.findContours(cont, cv2.RETR_CCOMP, cv2.CHAIN_APPROX_SIMPLE)\n",
    "for i in range(len(contours)):\n",
    "    # find the boundingbox of the contour\n",
    "    x, y, w, h = cv2.boundingRect(contours[i])\n",
    "    if 10 < h:\n",
    "        cv2.drawContours(im, contours, i, (0, 255, 0), -1)\n",
    "        # if boundingbox height is higher than threshold, remove the contour from residual image\n",
    "        cv2.drawContours(residual, contours, i, (0, 0, 0), -1)\n",
    "    else:\n",
    "        cv2.drawContours(im, contours, i, (255, 0, 0), -1)\n",
    "        # if boundingbox height is less than or equal to threshold, remove the contour gray image\n",
    "        cv2.drawContours(gray, contours, i, (0, 0, 0), -1)\n",
    "\n",
    "# now the residual only contains small contours. open it to remove thin lines\n",
    "st = cv2.getStructuringElement(cv2.MORPH_ELLIPSE, (3, 3))\n",
    "residual = cv2.morphologyEx(residual, cv2.MORPH_OPEN, st, iterations=1)\n",
    "# prepare a mask for residual components\n",
    "__, residual = cv2.threshold(residual, 0, 255, cv2.THRESH_BINARY)\n",
    "\n",
    "cv2.imshow(\"gray\", gray)\n",
    "cv2.waitKey(0)\n",
    "cv2.imwrite('data_5/filtered.png', gray)\n",
    "\n",
    "# cv2.imshow(\"residual\", residual)\n",
    "# cv2.waitKey(0)\n",
    "\n",
    "# # combine the residuals. we still need to link the residuals\n",
    "# combined = cv2.bitwise_or(cv2.bitwise_and(graycpy, residual), gray)\n",
    "# # link the residuals\n",
    "# st = cv2.getStructuringElement(cv2.MORPH_ELLIPSE, (1, 7))\n",
    "# linked = cv2.morphologyEx(combined, cv2.MORPH_CLOSE, st, iterations=1)\n",
    "# cv2.imshow(\"linked\", linked)\n",
    "# cv2.waitKey(0)\n",
    "\n",
    "# # prepare a msak from linked image\n",
    "# __, mask = cv2.threshold(linked, 0, 255, cv2.THRESH_BINARY)\n",
    "# # copy region from low-noise underlined image\n",
    "# clean = 255 - cv2.bitwise_and(grayu, mask)\n",
    "# cv2.imshow(\"clean\", clean)\n",
    "# cv2.waitKey(0)\n",
    "\n",
    "# cv2.imshow(\"im\", im)\n",
    "# cv2.waitKey(0)"
   ]
  },
  {
   "cell_type": "code",
   "execution_count": 20,
   "metadata": {},
   "outputs": [
    {
     "name": "stdout",
     "output_type": "stream",
     "text": [
      "Width: 2496 pixels, Height: 448 pixels\n",
      "Name\n",
      "Niranjan\n",
      "Sonachalam\n",
      "Rani\n",
      "Dinesh\n",
      "\n",
      "100\n"
     ]
    }
   ],
   "source": [
    "from PIL import Image, ImageEnhance, ImageFilter\n",
    "import numpy as np\n",
    "import pytesseract\n",
    "import os\n",
    "img = Image.open('data_5/result.png') # opens the files and check minimally\n",
    "img = img.convert('RGBA')\n",
    "pix = img.load() #reads the file content,decodes it and expands image into the memory\n",
    "width = img.size[0]\n",
    "height = img.size[1]\n",
    "# Dimensions of the image\n",
    "print(\"Width:\",width,\"pixels,\",\"Height:\",height,\"pixels\")\n",
    "# Background Filtering\n",
    "#print(pix[x,y])\n",
    "for y in range(height):\n",
    "     for x in range(width):\n",
    "         if(pix[x, y][0] < 102 or pix[x, y][1] < 102 or pix[x, y][2] < 102):\n",
    "             pix[x, y] = (0, 0, 0, 255)\n",
    "         else:\n",
    "             pix[x, y] = (255, 255, 255, 255)\n",
    "\n",
    "cv2.imshow(\"im\", np.array(img))\n",
    "cv2.waitKey(0)                \n",
    "text = pytesseract.image_to_string(img)\n",
    "print(text)\n",
    "# After getting the text output delete it from local system.\n",
    "#os.remove('temp.png')"
   ]
  }
 ],
 "metadata": {
  "kernelspec": {
   "display_name": "Python 3",
   "language": "python",
   "name": "python3"
  },
  "language_info": {
   "codemirror_mode": {
    "name": "ipython",
    "version": 3
   },
   "file_extension": ".py",
   "mimetype": "text/x-python",
   "name": "python",
   "nbconvert_exporter": "python",
   "pygments_lexer": "ipython3",
   "version": "3.6.5"
  }
 },
 "nbformat": 4,
 "nbformat_minor": 2
}
