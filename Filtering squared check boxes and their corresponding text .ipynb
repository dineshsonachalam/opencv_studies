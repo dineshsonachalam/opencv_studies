{
 "cells": [
  {
   "cell_type": "code",
   "execution_count": 47,
   "metadata": {},
   "outputs": [
    {
     "name": "stdout",
     "output_type": "stream",
     "text": [
      "Dimensions of the image.\n",
      "Height: 48\n",
      "Width: 162\n"
     ]
    },
    {
     "data": {
      "image/png": "[encoded data removed]",
      "text/plain": [
       "<Figure size 432x288 with 1 Axes>"
      ]
     },
     "metadata": {},
     "output_type": "display_data"
    },
    {
     "data": {
      "image/png": "[encoded data removed]",
      "text/plain": [
       "<Figure size 432x288 with 1 Axes>"
      ]
     },
     "metadata": {},
     "output_type": "display_data"
    },
    {
     "data": {
      "image/png": "[encoded data removed]",
      "text/plain": [
       "<Figure size 432x288 with 1 Axes>"
      ]
     },
     "metadata": {},
     "output_type": "display_data"
    },
    {
     "data": {
      "text/plain": [
       "True"
      ]
     },
     "execution_count": 47,
     "metadata": {},
     "output_type": "execute_result"
    }
   ],
   "source": [
    "# Import necessary libraries\n",
    "from matplotlib import pyplot as plt\n",
    "import cv2\n",
    "\n",
    "# Read image\n",
    "image = cv2.imread('data_2/5.png')\n",
    "\n",
    "# Height and width of the image\n",
    "height, width = image.shape[:2]\n",
    "print(\"Dimensions of the image.\")\n",
    "print(\"Height:\",height)\n",
    "print(\"Width:\",width)\n",
    "\n",
    "gray = cv2.cvtColor(image, cv2.COLOR_BGR2GRAY)\n",
    "gray = cv2.GaussianBlur(gray, (5,5), 0)\n",
    "\n",
    "\n",
    "# Finding Edges\n",
    "edges = cv2.Canny(gray, 60, 255)\n",
    "\n",
    "\n",
    "# contours -> an outline representing or bounding the shape.\n",
    "_,cnts, hierarchy = cv2.findContours(edges.copy(), cv2.RETR_EXTERNAL, cv2.CHAIN_APPROX_SIMPLE)\n",
    "contours = sorted(cnts, key=cv2.contourArea, reverse=True)[:10]\n",
    "count = 1\n",
    "for contour in contours:\n",
    "    if(count<=4):\n",
    "        #print(\"Count:\",count)\n",
    "        count = count + 1\n",
    "        area = cv2.contourArea(contour)\n",
    "        if area > 100000 and area < 1000:\n",
    "            contours.remove(contour)\n",
    "        perimeter = cv2.arcLength(contour, True)\n",
    "        approx = cv2.approxPolyDP(contour, 0.01*perimeter, True)\n",
    "        if len(approx) == 4:\n",
    "\n",
    "\n",
    "            cv2.circle(image, (720, 360), 5, (255,0,0), 5)\n",
    "            cv2.drawContours(image, [approx], -1, (0, 255, 0), 2)   \n",
    "            M = cv2.moments(approx)\n",
    "\n",
    "            centers = []\n",
    "            if M[\"m00\"] != 0:\n",
    "                cX = int(M[\"m10\"] / M[\"m00\"])\n",
    "                cY = int(M[\"m01\"] / M[\"m00\"])\n",
    "            else:\n",
    "                cX, cY = 0, 0\n",
    "\n",
    "            P1 = approx[0]\n",
    "            P1x = P1[0][0]\n",
    "            P1y = P1[0][1]\n",
    "\n",
    "            P2 = approx[1]\n",
    "            P2x = P2[0][0]\n",
    "            P2y = P2[0][1]\n",
    "\n",
    "            P3 = approx[2]\n",
    "            P3x = P3[0][0]\n",
    "            P3y = P3[0][1]\n",
    "\n",
    "            P4 = approx[3]\n",
    "            P4x = P4[0][0]\n",
    "            P4y = P4[0][1]\n",
    "        \n",
    "plt.imshow(image)\n",
    "plt.title('Detecting Square')\n",
    "plt.show()\n",
    "\n",
    "# Cropping the square_image using array slices -- it's a NumPy array\n",
    "cropped_square = image[P1y:P3y, P2x:P3x]\n",
    "\n",
    "# Cropping the text image\n",
    "cropped_text = image[P1y:P3y,P3x+5:width]\n",
    "\n",
    "# Displaying the cropped square and cropped text image.\n",
    "plt.imshow(cropped_square)\n",
    "plt.title('Cropped Square')\n",
    "plt.show()\n",
    "\n",
    "plt.imshow(cropped_text)\n",
    "plt.title('Cropped Text')\n",
    "plt.show()\n",
    "\n",
    "# Now saving the cropped square and cropped text image\n",
    "cv2.imwrite('results/square1.png',cropped_square)\n",
    "cv2.imwrite('results/text1.png',cropped_text)"
   ]
  }
 ],
 "metadata": {
  "kernelspec": {
   "display_name": "Python 3",
   "language": "python",
   "name": "python3"
  },
  "language_info": {
   "codemirror_mode": {
    "name": "ipython",
    "version": 3
   },
   "file_extension": ".py",
   "mimetype": "text/x-python",
   "name": "python",
   "nbconvert_exporter": "python",
   "pygments_lexer": "ipython3",
   "version": "3.6.5"
  }
 },
 "nbformat": 4,
 "nbformat_minor": 2
}
